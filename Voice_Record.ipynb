{
 "cells": [
  {
   "cell_type": "code",
   "execution_count": 1,
   "metadata": {},
   "outputs": [
    {
     "data": {
      "text/plain": [
       "   0 Microsoft Sound Mapper - Input, MME (2 in, 0 out)\n",
       ">  1 Microphone Array (Conexant Smar, MME (2 in, 0 out)\n",
       "   2 Headset (Tronsmart Element T6 M, MME (2 in, 0 out)\n",
       "   3 Microsoft Sound Mapper - Output, MME (0 in, 2 out)\n",
       "<  4 Headset (Tronsmart Element T6 M, MME (0 in, 2 out)\n",
       "   5 Speakers (Conexant SmartAudio H, MME (0 in, 2 out)\n",
       "   6 Headphones (Tronsmart Element T, MME (0 in, 2 out)\n",
       "   7 Primary Sound Capture Driver, Windows DirectSound (2 in, 0 out)\n",
       "   8 Microphone Array (Conexant SmartAudio HD), Windows DirectSound (2 in, 0 out)\n",
       "   9 Headset (Tronsmart Element T6 Mini Hands-Free AG Audio), Windows DirectSound (2 in, 0 out)\n",
       "  10 Primary Sound Driver, Windows DirectSound (0 in, 1 out)\n",
       "  11 Headset (Tronsmart Element T6 Mini Hands-Free AG Audio), Windows DirectSound (0 in, 1 out)\n",
       "  12 Speakers (Conexant SmartAudio HD), Windows DirectSound (0 in, 2 out)\n",
       "  13 Headphones (Tronsmart Element T6 Mini Stereo), Windows DirectSound (0 in, 2 out)\n",
       "  14 Speakers (Conexant SmartAudio HD), Windows WASAPI (0 in, 2 out)\n",
       "  15 Headset (Tronsmart Element T6 Mini Hands-Free AG Audio), Windows WASAPI (0 in, 1 out)\n",
       "  16 Headphones (Tronsmart Element T6 Mini Stereo), Windows WASAPI (0 in, 2 out)\n",
       "  17 Microphone Array (Conexant SmartAudio HD), Windows WASAPI (2 in, 0 out)\n",
       "  18 Headset (Tronsmart Element T6 Mini Hands-Free AG Audio), Windows WASAPI (1 in, 0 out)\n",
       "  19 Stereo Mix (Conexant HD Stereo Mix), Windows WDM-KS (2 in, 0 out)\n",
       "  20 Microphone Array (Conexant HD Audio capture), Windows WDM-KS (2 in, 0 out)\n",
       "  21 Speakers (Conexant HD Audio output), Windows WDM-KS (0 in, 2 out)\n",
       "  22 Headphones (), Windows WDM-KS (0 in, 2 out)\n",
       "  23 Headset (@System32\\drivers\\bthhfenum.sys,#2;%1 Hands-Free AG Audio%0\n",
       ";(Tronsmart Element T6 Mini)), Windows WDM-KS (0 in, 1 out)\n",
       "  24 Headset (@System32\\drivers\\bthhfenum.sys,#2;%1 Hands-Free AG Audio%0\n",
       ";(Tronsmart Element T6 Mini)), Windows WDM-KS (1 in, 0 out)"
      ]
     },
     "execution_count": 1,
     "metadata": {},
     "output_type": "execute_result"
    }
   ],
   "source": [
    "import soundfile as sf\n",
    "import sounddevice as sd\n",
    "\n",
    "misc = sd.query_devices()\n",
    "misc"
   ]
  },
  {
   "cell_type": "code",
   "execution_count": 2,
   "metadata": {},
   "outputs": [
    {
     "name": "stdout",
     "output_type": "stream",
     "text": [
      "{'name': 'Microphone Array (Conexant Smar', 'hostapi': 0, 'max_input_channels': 2, 'max_output_channels': 0, 'default_low_input_latency': 0.09, 'default_low_output_latency': 0.09, 'default_high_input_latency': 0.18, 'default_high_output_latency': 0.18, 'default_samplerate': 44100.0}\n"
     ]
    }
   ],
   "source": [
    "sd.default.device = 1\n",
    "print(misc[1])"
   ]
  },
  {
   "cell_type": "code",
   "execution_count": 3,
   "metadata": {},
   "outputs": [],
   "source": [
    "def sync_record(filename, duration, sr, channels):\n",
    "    print('recording')\n",
    "    my_rec = sd.rec(samplerate=sr, channels=channels, frames=int(duration*sr))\n",
    "    sd.wait()\n",
    "    sf.write(filename, data=my_rec, samplerate=sr)\n",
    "    print('done recording')"
   ]
  },
  {
   "cell_type": "code",
   "execution_count": 6,
   "metadata": {},
   "outputs": [
    {
     "name": "stdout",
     "output_type": "stream",
     "text": [
      "Văn bản cần thu âm là : \n",
      "\n",
      "Ba bệnh nhân Covid 19 xuất viện.Bác sĩ Phạm Ngọc Hàm Trưởng khoa Y học nhiệt đới không giấu được niềm vui.Sau gần 3 tuần điều trị sức khỏe bệnh nhân đều tiến triển tốt cho đến khi âm tính hoàn toàn\n",
      "mời bạn đọc câu: \n",
      "\n",
      "Ba bệnh nhân Covid 19 xuất viện\n",
      "ấn enter để bắt đầu ghi âm\n",
      "recording\n",
      "done recording\n",
      "Press enter to continue\n",
      "mời bạn đọc câu: \n",
      "\n",
      "Bác sĩ Phạm Ngọc Hàm Trưởng khoa Y học nhiệt đới không giấu được niềm vui\n",
      "ấn enter để bắt đầu ghi âm\n",
      "recording\n",
      "done recording\n",
      "Press enter to continue\n",
      "mời bạn đọc câu: \n",
      "\n",
      "Sau gần 3 tuần điều trị sức khỏe bệnh nhân đều tiến triển tốt cho đến khi âm tính hoàn toàn\n",
      "ấn enter để bắt đầu ghi âm\n",
      "recording\n",
      "done recording\n",
      "Press enter to continue\n",
      "bạn đã ghi âm xong\n"
     ]
    }
   ],
   "source": [
    "file =\"Data/Test.txt\"\n",
    "def Record_file(file, folder, filetext):\n",
    "    with open(file, encoding=\"utf8\" ) as f:\n",
    "        content = f.read()\n",
    "        content = content.replace(\"  \", \" \")\n",
    "        content = content.replace(\". \", \".\")\n",
    "        content = content.replace(\"\\n\", \".\")\n",
    "        content = content.replace(\"..\", \".\")\n",
    "        print(\"Văn bản cần thu âm là : \\n\")\n",
    "        print(content)\n",
    "        content = content.split(\".\")\n",
    "        f.close()\n",
    "    i = 1\n",
    "    for sentence in content:\n",
    "        print(\"mời bạn đọc câu: \\n\")\n",
    "        print(sentence)\n",
    "        try:\n",
    "            input(\"ấn enter để bắt đầu ghi âm\")\n",
    "        except SyntaxError:\n",
    "            pass\n",
    "        temp = sentence.split()\n",
    "        duration = int(len(temp))\n",
    "        name = \"sentence\" + str(i)\n",
    "        filename = folder +\"/\" + name +\".wav\"\n",
    "        sync_record(filename, duration , 22050, 1)\n",
    "        file = open(filetext, \"a+\",encoding='utf8')\n",
    "        file.write(name + '\\n')\n",
    "        file.write(sentence + '\\n')\n",
    "        file.close()\n",
    "        i = i + 1\n",
    "        try:\n",
    "            input(\"Press enter to continue\")\n",
    "        except SyntaxError:\n",
    "            pass\n",
    "        \n",
    "    print(\"bạn đã ghi âm xong\")\n",
    "folder =\"Test\"\n",
    "Newpaper = \"https://vnexpress.net/\"\n",
    "filetext = folder + \"/\" + folder + \".txt\"\n",
    "f=open(filetext, \"w+\")\n",
    "f.write(Newpaper + \"\\n\")\n",
    "f.close()\n",
    "Record_file(file,folder,filetext)\n",
    "        \n",
    "        \n",
    "        \n"
   ]
  },
  {
   "cell_type": "code",
   "execution_count": null,
   "metadata": {},
   "outputs": [],
   "source": [
    "\n"
   ]
  },
  {
   "cell_type": "code",
   "execution_count": null,
   "metadata": {},
   "outputs": [],
   "source": []
  },
  {
   "cell_type": "code",
   "execution_count": null,
   "metadata": {},
   "outputs": [],
   "source": []
  },
  {
   "cell_type": "code",
   "execution_count": null,
   "metadata": {},
   "outputs": [],
   "source": []
  },
  {
   "cell_type": "code",
   "execution_count": null,
   "metadata": {},
   "outputs": [],
   "source": []
  },
  {
   "cell_type": "code",
   "execution_count": null,
   "metadata": {},
   "outputs": [],
   "source": []
  }
 ],
 "metadata": {
  "kernelspec": {
   "display_name": "Python 3",
   "language": "python",
   "name": "python3"
  },
  "language_info": {
   "codemirror_mode": {
    "name": "ipython",
    "version": 3
   },
   "file_extension": ".py",
   "mimetype": "text/x-python",
   "name": "python",
   "nbconvert_exporter": "python",
   "pygments_lexer": "ipython3",
   "version": "3.7.6"
  }
 },
 "nbformat": 4,
 "nbformat_minor": 4
}
